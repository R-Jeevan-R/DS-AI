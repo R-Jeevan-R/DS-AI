{
 "cells": [
  {
   "cell_type": "code",
   "execution_count": 2,
   "id": "e546f813-77b7-482a-bc13-c5141950020b",
   "metadata": {},
   "outputs": [],
   "source": [
    "import seaborn as sns\n",
    "import pandas as pd\n",
    "import matplotlib.pyplot as plt\n",
    "import numpy as np"
   ]
  },
  {
   "cell_type": "code",
   "execution_count": 47,
   "id": "357de9d6-ee17-4058-a7dd-cf896f65f790",
   "metadata": {},
   "outputs": [],
   "source": [
    "x = pd.Series(np.random.default_rng(1).random(1000))"
   ]
  },
  {
   "cell_type": "markdown",
   "id": "f561331f-44c3-49d6-872a-f8a1d6327438",
   "metadata": {},
   "source": [
    "## Range"
   ]
  },
  {
   "cell_type": "code",
   "execution_count": 50,
   "id": "335e93b4-de4b-452e-a7fe-e424cca87172",
   "metadata": {},
   "outputs": [
    {
     "data": {
      "text/plain": [
       "np.float64(0.9971424752138385)"
      ]
     },
     "execution_count": 50,
     "metadata": {},
     "output_type": "execute_result"
    }
   ],
   "source": [
    "x.max() - x.min()"
   ]
  },
  {
   "cell_type": "markdown",
   "id": "196cd9c9-5ea6-4904-b5a7-62ceff885d24",
   "metadata": {},
   "source": [
    "## Variance"
   ]
  },
  {
   "cell_type": "code",
   "execution_count": 60,
   "id": "551aa8c2-a128-4d27-87fa-4cf038b35ffa",
   "metadata": {},
   "outputs": [
    {
     "data": {
      "text/plain": [
       "np.float64(0.08409954155755656)"
      ]
     },
     "execution_count": 60,
     "metadata": {},
     "output_type": "execute_result"
    }
   ],
   "source": [
    "x.var()"
   ]
  },
  {
   "cell_type": "code",
   "execution_count": 61,
   "id": "3df372e6-adde-4cf0-a86a-2cec00fbf06a",
   "metadata": {},
   "outputs": [],
   "source": [
    "def variance(series):\n",
    "    diff = 0\n",
    "    mean = x.mean()\n",
    "    for value in series:\n",
    "        diff += (value - mean)**2\n",
    "    return diff/(len(series) - 1)"
   ]
  },
  {
   "cell_type": "code",
   "execution_count": 62,
   "id": "7198fc32-f37b-4b3e-9c11-2fd02b25efe6",
   "metadata": {},
   "outputs": [
    {
     "data": {
      "text/plain": [
       "np.float64(0.08409954155755664)"
      ]
     },
     "execution_count": 62,
     "metadata": {},
     "output_type": "execute_result"
    }
   ],
   "source": [
    "variance(x)"
   ]
  },
  {
   "cell_type": "markdown",
   "id": "dcd8e236-e760-46bf-a0e2-6d32737ef080",
   "metadata": {},
   "source": [
    "## Standard Deviation"
   ]
  },
  {
   "cell_type": "code",
   "execution_count": 63,
   "id": "799f1798-3c02-4e13-8247-869d09d68f28",
   "metadata": {},
   "outputs": [
    {
     "data": {
      "text/plain": [
       "np.float64(0.2899992095809169)"
      ]
     },
     "execution_count": 63,
     "metadata": {},
     "output_type": "execute_result"
    }
   ],
   "source": [
    "x.std()"
   ]
  },
  {
   "cell_type": "code",
   "execution_count": 66,
   "id": "ba454b93-c8cf-426d-adbc-003aa66f3926",
   "metadata": {},
   "outputs": [
    {
     "data": {
      "text/plain": [
       "np.float64(0.2899992095809169)"
      ]
     },
     "execution_count": 66,
     "metadata": {},
     "output_type": "execute_result"
    }
   ],
   "source": [
    "np.sqrt(x.var())"
   ]
  },
  {
   "cell_type": "code",
   "execution_count": 65,
   "id": "639fbfd6-c52f-4927-996c-701e93f7628f",
   "metadata": {},
   "outputs": [
    {
     "data": {
      "text/plain": [
       "np.float64(0.289999209580917)"
      ]
     },
     "execution_count": 65,
     "metadata": {},
     "output_type": "execute_result"
    }
   ],
   "source": [
    "np.sqrt(variance(x))"
   ]
  },
  {
   "cell_type": "markdown",
   "id": "77a39639-cfb2-4dc3-b289-1b8eeb95a98e",
   "metadata": {},
   "source": [
    "## Coefficient of Variation"
   ]
  },
  {
   "cell_type": "code",
   "execution_count": 70,
   "id": "62ebcc1f-ebd8-4118-a77e-1d82038d1482",
   "metadata": {},
   "outputs": [
    {
     "data": {
      "text/plain": [
       "np.float64(57.67631865102689)"
      ]
     },
     "execution_count": 70,
     "metadata": {},
     "output_type": "execute_result"
    }
   ],
   "source": [
    "x.std()/x.mean() * 100"
   ]
  },
  {
   "cell_type": "code",
   "execution_count": null,
   "id": "d3e7b49f-bc8f-40c8-957f-b79b92976cc9",
   "metadata": {},
   "outputs": [],
   "source": []
  }
 ],
 "metadata": {
  "kernelspec": {
   "display_name": "Python 3 (ipykernel)",
   "language": "python",
   "name": "python3"
  },
  "language_info": {
   "codemirror_mode": {
    "name": "ipython",
    "version": 3
   },
   "file_extension": ".py",
   "mimetype": "text/x-python",
   "name": "python",
   "nbconvert_exporter": "python",
   "pygments_lexer": "ipython3",
   "version": "3.13.0"
  }
 },
 "nbformat": 4,
 "nbformat_minor": 5
}

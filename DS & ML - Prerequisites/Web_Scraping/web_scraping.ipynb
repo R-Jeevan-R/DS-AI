{
 "cells": [
  {
   "cell_type": "code",
   "execution_count": 2,
   "id": "f1a61219-e37c-46ba-920a-e478eeeff994",
   "metadata": {},
   "outputs": [],
   "source": [
    "import pandas as pd\n",
    "import requests\n",
    "from bs4 import BeautifulSoup"
   ]
  },
  {
   "cell_type": "code",
   "execution_count": 3,
   "id": "2a6be951-38b0-4ff8-a72b-75887f9efb05",
   "metadata": {},
   "outputs": [],
   "source": [
    "header = {'User-agent': 'Mozilla/5.0 (Windows NT 10.0; Win64; x64) AppleWebKit/537.36 (KHTML, like Gecko) Chrome/133.0.0.0 Safari/537.366'}"
   ]
  },
  {
   "cell_type": "code",
   "execution_count": null,
   "id": "a38d1664-ae93-41d4-b9e9-b723b60a6b9c",
   "metadata": {},
   "outputs": [],
   "source": [
    "requests.get(\"https://www.ambitionbox.com/list-of-companies?page=1\",headers=header).text"
   ]
  },
  {
   "cell_type": "code",
   "execution_count": null,
   "id": "608ce500-6f67-49be-9a03-08da51474c85",
   "metadata": {},
   "outputs": [],
   "source": []
  }
 ],
 "metadata": {
  "kernelspec": {
   "display_name": "Python 3 (ipykernel)",
   "language": "python",
   "name": "python3"
  },
  "language_info": {
   "codemirror_mode": {
    "name": "ipython",
    "version": 3
   },
   "file_extension": ".py",
   "mimetype": "text/x-python",
   "name": "python",
   "nbconvert_exporter": "python",
   "pygments_lexer": "ipython3",
   "version": "3.13.0"
  }
 },
 "nbformat": 4,
 "nbformat_minor": 5
}

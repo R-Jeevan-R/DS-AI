{
 "cells": [
  {
   "cell_type": "code",
   "execution_count": 1,
   "id": "af461b5c-66da-4cd0-9534-0113e063292e",
   "metadata": {},
   "outputs": [],
   "source": [
    "import pandas as pd\n",
    "import requests"
   ]
  },
  {
   "cell_type": "code",
   "execution_count": 24,
   "id": "5eb2ca56-d304-4f62-9cad-8a1652afd889",
   "metadata": {},
   "outputs": [],
   "source": [
    "response = requests.get('https://cat-fact.herokuapp.com/facts/')"
   ]
  },
  {
   "cell_type": "code",
   "execution_count": 25,
   "id": "f8c0115a-6cae-4b28-8f1b-dc2b49136de0",
   "metadata": {},
   "outputs": [
    {
     "data": {
      "text/plain": [
       "<Response [200]>"
      ]
     },
     "execution_count": 25,
     "metadata": {},
     "output_type": "execute_result"
    }
   ],
   "source": [
    "response"
   ]
  },
  {
   "cell_type": "code",
   "execution_count": 45,
   "id": "42639838-19e8-43ad-a441-65f6cda3096b",
   "metadata": {},
   "outputs": [],
   "source": [
    "df = pd.DataFrame(response.json())[['_id','user','text','__v','source','type','used']]"
   ]
  },
  {
   "cell_type": "code",
   "execution_count": 46,
   "id": "a413790f-a3f9-4cd2-9ee7-2f5d17bb79e8",
   "metadata": {},
   "outputs": [
    {
     "data": {
      "text/html": [
       "<div>\n",
       "<style scoped>\n",
       "    .dataframe tbody tr th:only-of-type {\n",
       "        vertical-align: middle;\n",
       "    }\n",
       "\n",
       "    .dataframe tbody tr th {\n",
       "        vertical-align: top;\n",
       "    }\n",
       "\n",
       "    .dataframe thead th {\n",
       "        text-align: right;\n",
       "    }\n",
       "</style>\n",
       "<table border=\"1\" class=\"dataframe\">\n",
       "  <thead>\n",
       "    <tr style=\"text-align: right;\">\n",
       "      <th></th>\n",
       "      <th>_id</th>\n",
       "      <th>user</th>\n",
       "      <th>text</th>\n",
       "      <th>__v</th>\n",
       "      <th>source</th>\n",
       "      <th>type</th>\n",
       "      <th>used</th>\n",
       "    </tr>\n",
       "  </thead>\n",
       "  <tbody>\n",
       "    <tr>\n",
       "      <th>0</th>\n",
       "      <td>58e008780aac31001185ed05</td>\n",
       "      <td>58e007480aac31001185ecef</td>\n",
       "      <td>Owning a cat can reduce the risk of stroke and...</td>\n",
       "      <td>0</td>\n",
       "      <td>user</td>\n",
       "      <td>cat</td>\n",
       "      <td>False</td>\n",
       "    </tr>\n",
       "    <tr>\n",
       "      <th>1</th>\n",
       "      <td>58e009390aac31001185ed10</td>\n",
       "      <td>58e007480aac31001185ecef</td>\n",
       "      <td>Most cats are lactose intolerant, and milk can...</td>\n",
       "      <td>0</td>\n",
       "      <td>user</td>\n",
       "      <td>cat</td>\n",
       "      <td>False</td>\n",
       "    </tr>\n",
       "    <tr>\n",
       "      <th>2</th>\n",
       "      <td>588e746706ac2b00110e59ff</td>\n",
       "      <td>588e6e8806ac2b00110e59c3</td>\n",
       "      <td>Domestic cats spend about 70 percent of the da...</td>\n",
       "      <td>0</td>\n",
       "      <td>user</td>\n",
       "      <td>cat</td>\n",
       "      <td>True</td>\n",
       "    </tr>\n",
       "    <tr>\n",
       "      <th>3</th>\n",
       "      <td>58e008ad0aac31001185ed0c</td>\n",
       "      <td>58e007480aac31001185ecef</td>\n",
       "      <td>The frequency of a domestic cat's purr is the ...</td>\n",
       "      <td>0</td>\n",
       "      <td>user</td>\n",
       "      <td>cat</td>\n",
       "      <td>True</td>\n",
       "    </tr>\n",
       "    <tr>\n",
       "      <th>4</th>\n",
       "      <td>58e007cc0aac31001185ecf5</td>\n",
       "      <td>58e007480aac31001185ecef</td>\n",
       "      <td>Cats are the most popular pet in the United St...</td>\n",
       "      <td>0</td>\n",
       "      <td>user</td>\n",
       "      <td>cat</td>\n",
       "      <td>False</td>\n",
       "    </tr>\n",
       "  </tbody>\n",
       "</table>\n",
       "</div>"
      ],
      "text/plain": [
       "                        _id                      user  \\\n",
       "0  58e008780aac31001185ed05  58e007480aac31001185ecef   \n",
       "1  58e009390aac31001185ed10  58e007480aac31001185ecef   \n",
       "2  588e746706ac2b00110e59ff  588e6e8806ac2b00110e59c3   \n",
       "3  58e008ad0aac31001185ed0c  58e007480aac31001185ecef   \n",
       "4  58e007cc0aac31001185ecf5  58e007480aac31001185ecef   \n",
       "\n",
       "                                                text  __v source type   used  \n",
       "0  Owning a cat can reduce the risk of stroke and...    0   user  cat  False  \n",
       "1  Most cats are lactose intolerant, and milk can...    0   user  cat  False  \n",
       "2  Domestic cats spend about 70 percent of the da...    0   user  cat   True  \n",
       "3  The frequency of a domestic cat's purr is the ...    0   user  cat   True  \n",
       "4  Cats are the most popular pet in the United St...    0   user  cat  False  "
      ]
     },
     "execution_count": 46,
     "metadata": {},
     "output_type": "execute_result"
    }
   ],
   "source": [
    "df"
   ]
  },
  {
   "cell_type": "code",
   "execution_count": 66,
   "id": "215e0783-4d89-417d-ae87-5964a8619ed4",
   "metadata": {},
   "outputs": [],
   "source": [
    "import requests\n",
    "\n",
    "url = \"https://electric-vehicle-charging-station-and-point.p.rapidapi.com/ca/elec.json\"\n",
    "headers = {\n",
    "\t\"x-rapidapi-key\": \"b0542a77ecmsh11d3ca185478546p103bbejsn83bc2acdc355\",\n",
    "\t\"x-rapidapi-host\": \"electric-vehicle-charging-station-and-point.p.rapidapi.com\"\n",
    "}\n",
    "response = requests.get(url, headers=headers)"
   ]
  },
  {
   "cell_type": "code",
   "execution_count": 80,
   "id": "cd0f7367-d76a-445e-b03b-9076b916c5a6",
   "metadata": {},
   "outputs": [],
   "source": [
    "li = list(('access_code',\n",
    "'access_days_time',\n",
    "'city',\n",
    "'ev_connector_types',\n",
    "'ev_network',\n",
    "'facility_type',\n",
    "'fuel_type_code',\n",
    "'latitude',\n",
    "'longitude',\n",
    "'owner_type_code',\n",
    "'state',\n",
    "'station_name',\n",
    "'status_code'))"
   ]
  },
  {
   "cell_type": "code",
   "execution_count": 81,
   "id": "e8a63001-c0cb-4254-8e39-e4cde0a9ec6f",
   "metadata": {},
   "outputs": [],
   "source": [
    "df = pd.DataFrame(response.json())[li]"
   ]
  },
  {
   "cell_type": "code",
   "execution_count": 83,
   "id": "fd3a0d45-f111-4d83-a909-fb40759f7e50",
   "metadata": {},
   "outputs": [
    {
     "data": {
      "text/plain": [
       "(8078, 13)"
      ]
     },
     "execution_count": 83,
     "metadata": {},
     "output_type": "execute_result"
    }
   ],
   "source": [
    "df.shape"
   ]
  },
  {
   "cell_type": "code",
   "execution_count": null,
   "id": "2f6236ee-2d97-4f2f-bced-1083ec3af01a",
   "metadata": {},
   "outputs": [],
   "source": []
  }
 ],
 "metadata": {
  "kernelspec": {
   "display_name": "Python 3 (ipykernel)",
   "language": "python",
   "name": "python3"
  },
  "language_info": {
   "codemirror_mode": {
    "name": "ipython",
    "version": 3
   },
   "file_extension": ".py",
   "mimetype": "text/x-python",
   "name": "python",
   "nbconvert_exporter": "python",
   "pygments_lexer": "ipython3",
   "version": "3.13.0"
  }
 },
 "nbformat": 4,
 "nbformat_minor": 5
}

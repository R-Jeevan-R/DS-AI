{
 "cells": [
  {
   "cell_type": "code",
   "execution_count": 1,
   "id": "c2fd4f38-b3d9-4021-91c2-d1efe62eb309",
   "metadata": {},
   "outputs": [],
   "source": [
    "import numpy as np"
   ]
  },
  {
   "cell_type": "code",
   "execution_count": 110,
   "id": "09d15964-3141-45c5-aaf5-89e5ce6077f5",
   "metadata": {},
   "outputs": [
    {
     "data": {
      "text/plain": [
       "array([0, 1, 2, 3, 4, 5, 6, 7, 8, 9])"
      ]
     },
     "execution_count": 110,
     "metadata": {},
     "output_type": "execute_result"
    }
   ],
   "source": [
    "x=np.arange(10)\n",
    "x"
   ]
  },
  {
   "cell_type": "code",
   "execution_count": 113,
   "id": "f9055849-0f33-4c56-a7d1-13a0e064a99a",
   "metadata": {},
   "outputs": [
    {
     "data": {
      "text/plain": [
       "array([[0, 1],\n",
       "       [2, 3],\n",
       "       [4, 5],\n",
       "       [6, 7],\n",
       "       [8, 9]])"
      ]
     },
     "execution_count": 113,
     "metadata": {},
     "output_type": "execute_result"
    }
   ],
   "source": [
    "x=x.reshape(5,2)\n",
    "x"
   ]
  },
  {
   "cell_type": "code",
   "execution_count": 106,
   "id": "368a6628-c1c0-48c7-8b4f-80b5de1d02d1",
   "metadata": {},
   "outputs": [
    {
     "data": {
      "text/plain": [
       "3.141592653589793"
      ]
     },
     "execution_count": 106,
     "metadata": {},
     "output_type": "execute_result"
    }
   ],
   "source": [
    "np.pi"
   ]
  },
  {
   "cell_type": "code",
   "execution_count": 132,
   "id": "e741f594-50cf-41be-a867-3bfcc8d872d4",
   "metadata": {},
   "outputs": [
    {
     "data": {
      "text/plain": [
       "array([[1, 2],\n",
       "       [1, 2],\n",
       "       [1, 2],\n",
       "       [1, 2],\n",
       "       [1, 2]])"
      ]
     },
     "execution_count": 132,
     "metadata": {},
     "output_type": "execute_result"
    }
   ],
   "source": [
    "np.full_like(x,[1,2])"
   ]
  },
  {
   "cell_type": "code",
   "execution_count": 137,
   "id": "7ef0581c-71a0-484f-97fa-1b1a3fa640b4",
   "metadata": {},
   "outputs": [
    {
     "data": {
      "text/plain": [
       "array([[1.]])"
      ]
     },
     "execution_count": 137,
     "metadata": {},
     "output_type": "execute_result"
    }
   ],
   "source": [
    "np.eye(1)"
   ]
  },
  {
   "cell_type": "code",
   "execution_count": 146,
   "id": "024b33c4-80b1-4ce4-a8a4-e36f9db76d8f",
   "metadata": {},
   "outputs": [
    {
     "data": {
      "text/plain": [
       "array([[1, 0, 0, 0, 0, 0, 0, 0, 0, 0],\n",
       "       [0, 1, 0, 0, 0, 0, 0, 0, 0, 0],\n",
       "       [0, 0, 1, 0, 0, 0, 0, 0, 0, 0],\n",
       "       [0, 0, 0, 1, 0, 0, 0, 0, 0, 0],\n",
       "       [0, 0, 0, 0, 1, 0, 0, 0, 0, 0],\n",
       "       [0, 0, 0, 0, 0, 1, 0, 0, 0, 0],\n",
       "       [0, 0, 0, 0, 0, 0, 1, 0, 0, 0],\n",
       "       [0, 0, 0, 0, 0, 0, 0, 1, 0, 0],\n",
       "       [0, 0, 0, 0, 0, 0, 0, 0, 1, 0],\n",
       "       [0, 0, 0, 0, 0, 0, 0, 0, 0, 1]], dtype=int8)"
      ]
     },
     "execution_count": 146,
     "metadata": {},
     "output_type": "execute_result"
    }
   ],
   "source": [
    "np.identity(10,dtype='int8')"
   ]
  },
  {
   "cell_type": "code",
   "execution_count": 175,
   "id": "0ce5fa63-f444-4cdd-8aef-02c8edd68e9e",
   "metadata": {},
   "outputs": [
    {
     "data": {
      "text/plain": [
       "array(['Kalyan', '10'], dtype='<U21')"
      ]
     },
     "execution_count": 175,
     "metadata": {},
     "output_type": "execute_result"
    }
   ],
   "source": [
    "np.array(['Kalyan',10],ndmin=0)"
   ]
  },
  {
   "cell_type": "code",
   "execution_count": 183,
   "id": "2f9be9ed-5756-4535-a89f-7ecd4253bb63",
   "metadata": {},
   "outputs": [
    {
     "data": {
      "text/plain": [
       "array([[1, 2],\n",
       "       [3, 4]])"
      ]
     },
     "execution_count": 183,
     "metadata": {},
     "output_type": "execute_result"
    }
   ],
   "source": [
    "np.array([(1,2),(3,4)])"
   ]
  },
  {
   "cell_type": "code",
   "execution_count": 191,
   "id": "eb174245-ed06-4b93-91f2-746f2cb6e901",
   "metadata": {},
   "outputs": [
    {
     "data": {
      "text/plain": [
       "array([ 1. ,  5.5, 10. ])"
      ]
     },
     "execution_count": 191,
     "metadata": {},
     "output_type": "execute_result"
    }
   ],
   "source": [
    "np.linspace(1,10,3)"
   ]
  },
  {
   "cell_type": "code",
   "execution_count": 205,
   "id": "18cbc6b6-534a-4af2-9145-7cbff9e17179",
   "metadata": {},
   "outputs": [
    {
     "data": {
      "text/plain": [
       "array([1.e+010, 1.e+100])"
      ]
     },
     "execution_count": 205,
     "metadata": {},
     "output_type": "execute_result"
    }
   ],
   "source": [
    "np.logspace(10,100,2)"
   ]
  },
  {
   "cell_type": "code",
   "execution_count": 210,
   "id": "07599258-f9b0-4d96-9b94-368d9fd96488",
   "metadata": {},
   "outputs": [
    {
     "data": {
      "text/plain": [
       "array([[1, 0],\n",
       "       [1, 2]])"
      ]
     },
     "execution_count": 210,
     "metadata": {},
     "output_type": "execute_result"
    }
   ],
   "source": [
    "np.tril(np.array([1,2]))"
   ]
  },
  {
   "cell_type": "code",
   "execution_count": 214,
   "id": "2f3db99d-96da-49f3-9321-82ddb5b3b448",
   "metadata": {},
   "outputs": [
    {
     "data": {
      "text/plain": [
       "array([[1, 0, 0],\n",
       "       [0, 2, 0],\n",
       "       [0, 0, 3]])"
      ]
     },
     "execution_count": 214,
     "metadata": {},
     "output_type": "execute_result"
    }
   ],
   "source": [
    "np.diag(np.array([1,2,3]))"
   ]
  },
  {
   "cell_type": "code",
   "execution_count": 809,
   "id": "8aa462a3-c3ab-4aa0-981a-8007a1e8d54b",
   "metadata": {},
   "outputs": [
    {
     "data": {
      "text/plain": [
       "array([[9, 2],\n",
       "       [0, 1]], dtype=int32)"
      ]
     },
     "execution_count": 809,
     "metadata": {},
     "output_type": "execute_result"
    }
   ],
   "source": [
    "np.random.randint(((10,3),(2,3)))  #Shape = (2,2) and Generates random ints in given range at each position"
   ]
  },
  {
   "cell_type": "code",
   "execution_count": 305,
   "id": "ff7c58e1-62b2-409f-8edb-4f3b962927fc",
   "metadata": {},
   "outputs": [
    {
     "data": {
      "text/plain": [
       "array([[0.95643958, 0.20104696, 0.37914674, 0.7935177 ],\n",
       "       [0.75860716, 0.36667381, 0.95708406, 0.00958457],\n",
       "       [0.81816883, 0.80173927, 0.51411927, 0.22577143]])"
      ]
     },
     "execution_count": 305,
     "metadata": {},
     "output_type": "execute_result"
    }
   ],
   "source": [
    "np.random.rand(3,4) #shape = (3,4)"
   ]
  },
  {
   "cell_type": "code",
   "execution_count": 301,
   "id": "5e1864de-8b88-4345-a79d-0b572767b009",
   "metadata": {},
   "outputs": [
    {
     "data": {
      "text/plain": [
       "array([0.22819122, 0.36358579, 0.36867326, 0.16312932, 0.11832813,\n",
       "       0.26969674, 0.6976821 , 0.54072187, 0.08424067])"
      ]
     },
     "execution_count": 301,
     "metadata": {},
     "output_type": "execute_result"
    }
   ],
   "source": [
    "np.random.rand(3,3).ravel() #Flatten Array"
   ]
  },
  {
   "cell_type": "code",
   "execution_count": 354,
   "id": "39d73f1a-861f-4110-981f-2a8bc1d04e07",
   "metadata": {},
   "outputs": [],
   "source": [
    "z= np.random.randint(2,10,(3,4,2))\n"
   ]
  },
  {
   "cell_type": "code",
   "execution_count": 358,
   "id": "adf830db-e163-453e-9096-961284f46b99",
   "metadata": {},
   "outputs": [
    {
     "data": {
      "text/plain": [
       "array([[[9, 9],\n",
       "        [5, 3],\n",
       "        [2, 5],\n",
       "        [9, 6]],\n",
       "\n",
       "       [[7, 2],\n",
       "        [8, 4],\n",
       "        [8, 9],\n",
       "        [3, 9]],\n",
       "\n",
       "       [[9, 2],\n",
       "        [6, 9],\n",
       "        [5, 3],\n",
       "        [4, 3]]], dtype=int32)"
      ]
     },
     "execution_count": 358,
     "metadata": {},
     "output_type": "execute_result"
    }
   ],
   "source": [
    "z"
   ]
  },
  {
   "cell_type": "code",
   "execution_count": 359,
   "id": "91704718-56cb-401b-9b01-3e2f0b3e6ae8",
   "metadata": {},
   "outputs": [
    {
     "data": {
      "text/plain": [
       "array([[[9, 7, 9],\n",
       "        [5, 8, 6],\n",
       "        [2, 8, 5],\n",
       "        [9, 3, 4]],\n",
       "\n",
       "       [[9, 2, 2],\n",
       "        [3, 4, 9],\n",
       "        [5, 9, 3],\n",
       "        [6, 9, 3]]], dtype=int32)"
      ]
     },
     "execution_count": 359,
     "metadata": {},
     "output_type": "execute_result"
    }
   ],
   "source": [
    "z.T"
   ]
  },
  {
   "cell_type": "code",
   "execution_count": 357,
   "id": "a3af3e69-76ca-403b-9c48-a45bdddfbb53",
   "metadata": {},
   "outputs": [
    {
     "data": {
      "text/plain": [
       "array([[[9, 9],\n",
       "        [7, 2],\n",
       "        [9, 2]],\n",
       "\n",
       "       [[5, 3],\n",
       "        [8, 4],\n",
       "        [6, 9]],\n",
       "\n",
       "       [[2, 5],\n",
       "        [8, 9],\n",
       "        [5, 3]],\n",
       "\n",
       "       [[9, 6],\n",
       "        [3, 9],\n",
       "        [4, 3]]], dtype=int32)"
      ]
     },
     "execution_count": 357,
     "metadata": {},
     "output_type": "execute_result"
    }
   ],
   "source": [
    "np.transpose(z,(1,0,2))"
   ]
  },
  {
   "cell_type": "code",
   "execution_count": 383,
   "id": "258da231-7d52-4f4e-8c3e-7025e53d5f5d",
   "metadata": {},
   "outputs": [],
   "source": [
    "x = np.array([[1,2,2], [2,3,3], [3,4,3]])\n",
    "y = np.array([4, 5, 6])"
   ]
  },
  {
   "cell_type": "code",
   "execution_count": 384,
   "id": "ce3228ff-f2ab-4b5b-be5c-4cd05c9edf91",
   "metadata": {},
   "outputs": [
    {
     "data": {
      "text/plain": [
       "array([[5, 7, 8],\n",
       "       [6, 8, 9],\n",
       "       [7, 9, 9]])"
      ]
     },
     "execution_count": 384,
     "metadata": {},
     "output_type": "execute_result"
    }
   ],
   "source": [
    "x + y"
   ]
  },
  {
   "cell_type": "code",
   "execution_count": 385,
   "id": "cdf8339c-38f7-44bc-961b-e5d3443a0380",
   "metadata": {},
   "outputs": [
    {
     "data": {
      "text/plain": [
       "array([[5, 7, 8],\n",
       "       [6, 8, 9],\n",
       "       [7, 9, 9]], dtype=int32)"
      ]
     },
     "execution_count": 385,
     "metadata": {},
     "output_type": "execute_result"
    }
   ],
   "source": [
    "out = np.empty(b.shape,dtype='int32')\n",
    "out.flat=np.array([u+v for u,v in np.broadcast(x,y)])\n",
    "out"
   ]
  },
  {
   "cell_type": "code",
   "execution_count": 407,
   "id": "b2f22de9-35c9-4c70-a9eb-a0fc0f05725e",
   "metadata": {},
   "outputs": [],
   "source": [
    "a = np.ones((3,3))\n",
    "b = np.ones((3,2))"
   ]
  },
  {
   "cell_type": "code",
   "execution_count": 409,
   "id": "a19a339f-dd22-4213-a7b3-53934a061894",
   "metadata": {},
   "outputs": [
    {
     "data": {
      "text/plain": [
       "array([[1., 1., 1., 1., 1.],\n",
       "       [1., 1., 1., 1., 1.],\n",
       "       [1., 1., 1., 1., 1.]])"
      ]
     },
     "execution_count": 409,
     "metadata": {},
     "output_type": "execute_result"
    }
   ],
   "source": [
    "np.concatenate((a,b),axis=1)"
   ]
  },
  {
   "cell_type": "code",
   "execution_count": 462,
   "id": "8352699d-97d2-4f55-8a64-0c612402cba4",
   "metadata": {},
   "outputs": [
    {
     "data": {
      "text/plain": [
       "array([[1, 2, 3],\n",
       "       [4, 5, 6]])"
      ]
     },
     "execution_count": 462,
     "metadata": {},
     "output_type": "execute_result"
    }
   ],
   "source": [
    "a = np.array([1, 2, 3])\n",
    "b = np.array([4, 5,6])\n",
    "np.vstack((a, b),)"
   ]
  },
  {
   "cell_type": "code",
   "execution_count": 476,
   "id": "6df2b6c4-8a4e-41fb-a054-7939a5b20e44",
   "metadata": {},
   "outputs": [
    {
     "data": {
      "text/plain": [
       "[array([0, 1, 2]), array([3, 4, 5, 6]), array([7]), array([8])]"
      ]
     },
     "execution_count": 476,
     "metadata": {},
     "output_type": "execute_result"
    }
   ],
   "source": [
    "np.split(np.arange(9),[3,7,8])"
   ]
  },
  {
   "cell_type": "code",
   "execution_count": 492,
   "id": "e1a12918-c289-445f-95f1-e252ddce3484",
   "metadata": {},
   "outputs": [
    {
     "data": {
      "text/plain": [
       "array([[1, 2, 3, 4],\n",
       "       [5, 6, 7, 8]])"
      ]
     },
     "execution_count": 492,
     "metadata": {},
     "output_type": "execute_result"
    }
   ],
   "source": [
    "np.delete(np.array([[1,2,3,4], [5,6,7,8], [9,10,11,12]]),2,0)"
   ]
  },
  {
   "cell_type": "code",
   "execution_count": 493,
   "id": "0e3b2cf7-c69c-4b38-b34d-50a36c5a64cc",
   "metadata": {},
   "outputs": [
    {
     "data": {
      "text/plain": [
       "array([ 1,  2,  4,  5,  6,  7,  8,  9, 10, 11, 12])"
      ]
     },
     "execution_count": 493,
     "metadata": {},
     "output_type": "execute_result"
    }
   ],
   "source": [
    "np.delete(np.array([[1,2,3,4], [5,6,7,8], [9,10,11,12]]),2)"
   ]
  },
  {
   "cell_type": "code",
   "execution_count": 545,
   "id": "0aa443df-c28a-4baf-9b12-d52676a0973d",
   "metadata": {},
   "outputs": [
    {
     "data": {
      "text/plain": [
       "array([[ 2,  4],\n",
       "       [ 6,  8],\n",
       "       [10, 12]])"
      ]
     },
     "execution_count": 545,
     "metadata": {},
     "output_type": "execute_result"
    }
   ],
   "source": [
    "np.delete(np.array([[1,2,3,4], [5,6,7,8], [9,10,11,12]]),np.s_[::2],1)"
   ]
  },
  {
   "cell_type": "code",
   "execution_count": 510,
   "id": "a7e10605-15a1-4913-aaa7-f4468320df3a",
   "metadata": {},
   "outputs": [
    {
     "data": {
      "text/plain": [
       "array([[1, 0, 1],\n",
       "       [1, 2, 3],\n",
       "       [1, 4, 5]])"
      ]
     },
     "execution_count": 510,
     "metadata": {},
     "output_type": "execute_result"
    }
   ],
   "source": [
    "np.insert(np.arange(6).reshape(3,2),0,1,axis=1)"
   ]
  },
  {
   "cell_type": "code",
   "execution_count": 539,
   "id": "8a88cf01-5c94-4663-9fe9-a1a80e7c3503",
   "metadata": {},
   "outputs": [
    {
     "data": {
      "text/plain": [
       "array([[ 0, 10,  1],\n",
       "       [ 2, 11,  3],\n",
       "       [ 4, 12,  5],\n",
       "       [ 6, 11,  7],\n",
       "       [ 8, 12,  9]])"
      ]
     },
     "execution_count": 539,
     "metadata": {},
     "output_type": "execute_result"
    }
   ],
   "source": [
    "np.insert(np.arange(10).reshape(5,2),[1],[[10],[11],[12],[11],[12]],axis=1)"
   ]
  },
  {
   "cell_type": "code",
   "execution_count": 540,
   "id": "c477e36d-95b5-42b6-9809-99019e6bdfd0",
   "metadata": {},
   "outputs": [
    {
     "data": {
      "text/plain": [
       "array([[ 0, 10, 11, 12, 11, 12,  1],\n",
       "       [ 2, 10, 11, 12, 11, 12,  3],\n",
       "       [ 4, 10, 11, 12, 11, 12,  5],\n",
       "       [ 6, 10, 11, 12, 11, 12,  7],\n",
       "       [ 8, 10, 11, 12, 11, 12,  9]])"
      ]
     },
     "execution_count": 540,
     "metadata": {},
     "output_type": "execute_result"
    }
   ],
   "source": [
    "np.insert(np.arange(10).reshape(5,2),1,[[10],[11],[12],[11],[12]],axis=1)"
   ]
  },
  {
   "cell_type": "code",
   "execution_count": 544,
   "id": "44beb341-1206-426f-8c87-14ea8e5f94d8",
   "metadata": {},
   "outputs": [
    {
     "data": {
      "text/plain": [
       "array([0, 1, 7, 2, 8, 3, 4, 5, 6, 7, 8, 9])"
      ]
     },
     "execution_count": 544,
     "metadata": {},
     "output_type": "execute_result"
    }
   ],
   "source": [
    "np.insert(np.arange(10), slice(2, 4), [7, 8])"
   ]
  },
  {
   "cell_type": "code",
   "execution_count": 556,
   "id": "0b57f3cd-041a-4d1a-9e8f-444d0db5330e",
   "metadata": {},
   "outputs": [
    {
     "data": {
      "text/plain": [
       "array([[[0, 1],\n",
       "        [2, 3],\n",
       "        [4, 5],\n",
       "        [6, 7]],\n",
       "\n",
       "       [[8, 9],\n",
       "        [0, 1],\n",
       "        [2, 3],\n",
       "        [4, 5]],\n",
       "\n",
       "       [[6, 7],\n",
       "        [8, 9],\n",
       "        [0, 1],\n",
       "        [2, 3]]])"
      ]
     },
     "execution_count": 556,
     "metadata": {},
     "output_type": "execute_result"
    }
   ],
   "source": [
    "np.resize(np.arange(10),(3,4,2))"
   ]
  },
  {
   "cell_type": "code",
   "execution_count": 557,
   "id": "05d923ee-1e0a-4eba-bdc9-834b72ad7a79",
   "metadata": {},
   "outputs": [
    {
     "data": {
      "text/plain": [
       "array([0, 1, 2, 3, 4, 5, 6, 7, 8, 9])"
      ]
     },
     "execution_count": 557,
     "metadata": {},
     "output_type": "execute_result"
    }
   ],
   "source": [
    "np.unique(np.resize(np.arange(10),(3,4,2)))"
   ]
  },
  {
   "cell_type": "code",
   "execution_count": 584,
   "id": "dd28b3fb-221a-49f2-aafc-4887ffd0ff99",
   "metadata": {},
   "outputs": [
    {
     "data": {
      "text/plain": [
       "array([[8, 8, 6, 7, 8, 8, 8, 8],\n",
       "       [8, 8, 6, 7, 8, 8, 8, 8],\n",
       "       [8, 8, 6, 7, 8, 8, 8, 8],\n",
       "       [2, 2, 0, 1, 2, 2, 2, 2],\n",
       "       [5, 5, 3, 4, 5, 5, 5, 5],\n",
       "       [8, 8, 6, 7, 8, 8, 8, 8],\n",
       "       [8, 8, 6, 7, 8, 8, 8, 8],\n",
       "       [8, 8, 6, 7, 8, 8, 8, 8]])"
      ]
     },
     "execution_count": 584,
     "metadata": {},
     "output_type": "execute_result"
    }
   ],
   "source": [
    "np.pad(np.resize(np.arange(10),(3,3)),((3, 2), (2, 3)),'maximum')"
   ]
  },
  {
   "cell_type": "code",
   "execution_count": 650,
   "id": "e71c98d2-d631-43ac-b3ad-b6baa5bda9c8",
   "metadata": {},
   "outputs": [
    {
     "data": {
      "text/plain": [
       "array([-0.05940371,  0.0445992 , -0.00857824,  0.18405364, -0.11794053,\n",
       "        0.09649742,  0.05734199, -0.19291696,  0.04248858, -0.19006424])"
      ]
     },
     "execution_count": 650,
     "metadata": {},
     "output_type": "execute_result"
    }
   ],
   "source": [
    "np.random.normal(0,0.1,(10))"
   ]
  },
  {
   "cell_type": "code",
   "execution_count": 668,
   "id": "4b5d53d7-c4b1-4a32-b73a-481e27de4955",
   "metadata": {},
   "outputs": [
    {
     "data": {
      "image/png": "[encoded data removed]",
      "text/plain": [
       "<Figure size 640x480 with 1 Axes>"
      ]
     },
     "metadata": {},
     "output_type": "display_data"
    }
   ],
   "source": [
    "import matplotlib.pyplot as plt\n",
    "plt.hist(np.random.normal(0,0.1,(100000)),500,density=True)\n",
    "plt.show()"
   ]
  },
  {
   "cell_type": "code",
   "execution_count": 739,
   "id": "c9761445-15ef-4a2b-afbe-ba2a45e220ce",
   "metadata": {},
   "outputs": [
    {
     "data": {
      "text/plain": [
       "array([[4, 4],\n",
       "       [4, 0]])"
      ]
     },
     "execution_count": 739,
     "metadata": {},
     "output_type": "execute_result"
    }
   ],
   "source": [
    "np.random.default_rng().choice(5,(2,2)) #This is equivalent to np.random.default_rng().integers(0,5,(2,2))\n",
    "#Generate a uniform random sample from np.arange(5) of size (2,2)"
   ]
  },
  {
   "cell_type": "code",
   "execution_count": 760,
   "id": "87417be9-207a-484f-8c44-3ce6c679cc05",
   "metadata": {},
   "outputs": [
    {
     "data": {
      "text/plain": [
       "array([[3, 4, 5],\n",
       "       [0, 1, 2]])"
      ]
     },
     "execution_count": 760,
     "metadata": {},
     "output_type": "execute_result"
    }
   ],
   "source": [
    "np.random.default_rng().choice([[0, 1, 2], [3, 4, 5], [6, 7, 8]], 2, replace=False)"
   ]
  },
  {
   "cell_type": "code",
   "execution_count": 759,
   "id": "2e6a4918-3912-41f4-a1c1-afb5ae129046",
   "metadata": {},
   "outputs": [
    {
     "data": {
      "text/plain": [
       "array([3, 0, 2])"
      ]
     },
     "execution_count": 759,
     "metadata": {},
     "output_type": "execute_result"
    }
   ],
   "source": [
    "np.random.default_rng().choice(5, 3, replace=False, p=[0.1, 0, 0.3, 0.6, 0]) #Non uniform Random sample "
   ]
  },
  {
   "cell_type": "code",
   "execution_count": 799,
   "id": "dd5cda04-111e-401f-8992-01dc356dc17f",
   "metadata": {},
   "outputs": [
    {
     "data": {
      "text/plain": [
       "array([8, 6, 7, 3, 9, 1, 2, 5, 4, 0])"
      ]
     },
     "execution_count": 799,
     "metadata": {},
     "output_type": "execute_result"
    }
   ],
   "source": [
    "arr=np.arange(10)\n",
    "np.random.default_rng().shuffle(arr)\n",
    "arr"
   ]
  },
  {
   "cell_type": "code",
   "execution_count": null,
   "id": "7f6024f5-af91-42da-b176-7be458a702b5",
   "metadata": {},
   "outputs": [
    {
     "data": {
      "text/plain": [
       "array([[0, 2, 1],\n",
       "       [3, 5, 4],\n",
       "       [6, 8, 7]])"
      ]
     },
     "execution_count": 801,
     "metadata": {},
     "output_type": "execute_result"
    }
   ],
   "source": [
    "arr = np.arange(9).reshape((3, 3))\n",
    "np.random.default_rng().permutation(arr,1)"
   ]
  },
  {
   "cell_type": "code",
   "execution_count": null,
   "id": "cd38f97e-1a6d-4510-b65f-64f7921fb550",
   "metadata": {},
   "outputs": [],
   "source": []
  }
 ],
 "metadata": {
  "kernelspec": {
   "display_name": "Python 3 (ipykernel)",
   "language": "python",
   "name": "python3"
  },
  "language_info": {
   "codemirror_mode": {
    "name": "ipython",
    "version": 3
   },
   "file_extension": ".py",
   "mimetype": "text/x-python",
   "name": "python",
   "nbconvert_exporter": "python",
   "pygments_lexer": "ipython3",
   "version": "3.13.0"
  }
 },
 "nbformat": 4,
 "nbformat_minor": 5
}
